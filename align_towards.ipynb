{
 "cells": [
  {
   "cell_type": "markdown",
   "metadata": {},
   "source": [
    "Testing ground for what has become realign.py"
   ]
  },
  {
   "cell_type": "code",
   "execution_count": 1,
   "metadata": {},
   "outputs": [],
   "source": [
    "from halotools.empirical_models import DimrothWatson\n",
    "from halotools.utils.rotations3d import rotation_matrices_from_vectors, rotation_matrices_from_angles\n",
    "from halotools.utils.mcrotations import random_unit_vectors_3d\n",
    "from halotools.utils.vector_utilities import rotate_vector_collection, normalized_vectors\n",
    "from halotools.utils import angles_between_list_of_vectors, elementwise_dot\n",
    "from scipy.spatial.transform import Rotation as R\n",
    "\n",
    "import numpy as np"
   ]
  },
  {
   "cell_type": "markdown",
   "metadata": {},
   "source": [
    "# Partial Rotation Matrix"
   ]
  },
  {
   "cell_type": "code",
   "execution_count": 2,
   "metadata": {},
   "outputs": [],
   "source": [
    "def quat_rotation_matrix_from_vectors(vecA, vecB):\n",
    "    \"\"\"\n",
    "    Compute the quaternion that rotates vecA to vecB.\n",
    "    \"\"\"\n",
    "    vecA = vecA / np.linalg.norm(vecA, axis=1)[:, np.newaxis]\n",
    "    vecB = vecB / np.linalg.norm(vecB, axis=1)[:, np.newaxis]\n",
    "    half = (vecA + vecB) / np.linalg.norm(vecA + vecB, axis=1)[:, np.newaxis]\n",
    "    w = np.sum(vecA * half, axis=1)\n",
    "    cross_product = np.cross(vecA, half)\n",
    "    x, y, z = cross_product.T\n",
    "    quats = np.column_stack((x, y, z, w))\n",
    "    return R.from_quat(quats)\n",
    "\n",
    "def slerp_quaternion(quatA, quatB, fraction):\n",
    "    \"\"\"\n",
    "    Perform spherical linear interpolation (Slerp) between two quaternions.\n",
    "    \"\"\"\n",
    "    fraction = np.ones(len(quatA)) * fraction\n",
    "    dot_product = np.sum(quatA * quatB, axis=1)\n",
    "\n",
    "    quatB[dot_product < 0] = -quatB[dot_product < 0]\n",
    "    dot_product = np.abs(dot_product)\n",
    "\n",
    "    close_mask = dot_product > 0.9995\n",
    "    far_mask = ~close_mask\n",
    "\n",
    "    interpolated_quat = np.empty_like(quatA, dtype=np.float64)\n",
    "    theta_0 = np.arccos(dot_product)\n",
    "    sin_theta_0 = np.sin(theta_0)\n",
    "\n",
    "    theta = theta_0 * fraction\n",
    "    sin_theta = np.sin(theta)\n",
    "\n",
    "    s0 = np.cos(theta) - dot_product * sin_theta / sin_theta_0\n",
    "    s1 = sin_theta / sin_theta_0\n",
    "\n",
    "    interpolated_quat[close_mask] = quatA[close_mask] + fraction[close_mask][:, np.newaxis] * (quatB[close_mask] - quatA[close_mask])\n",
    "    interpolated_quat[far_mask] = (s0[far_mask][:, np.newaxis] * quatA[far_mask]) + (s1[far_mask][:, np.newaxis] * quatB[far_mask])\n",
    "\n",
    "    interpolated_quat /= np.linalg.norm(interpolated_quat, axis=1)[:, np.newaxis]\n",
    "    return interpolated_quat\n",
    "\n",
    "def partial_rotation_matrices_from_vectors(vecA, vecB, fraction):\n",
    "    \"\"\"\n",
    "    Compute the rotation matrices for partial rotations from vecA to vecB.\n",
    "    \"\"\"\n",
    "    rot_full = quat_rotation_matrix_from_vectors(vecA, vecB)\n",
    "    quat_full = rot_full.as_quat()\n",
    "    quat_id = np.array([[0, 0, 0, 1]] * len(vecA))  # Identity quaternions\n",
    "\n",
    "    quat_partial = slerp_quaternion(quat_id, quat_full, fraction)\n",
    "\n",
    "    rot_partial = R.from_quat(quat_partial)\n",
    "    return rot_partial.as_matrix()\n",
    "\n",
    "def perpendicular_on_plane(vecA, vecB):\n",
    "    \"\"\"\n",
    "    Find the vector perpendicular to vecA on the plane defined by vecA and vecB.\n",
    "    \"\"\"\n",
    "    signs = np.sign(elementwise_dot(vecA, vecB))\n",
    "    vecC = signs[:,np.newaxis] * vecB\n",
    "    directions = np.cross(vecA, vecC)\n",
    "    mats = rotation_matrices_from_angles(np.pi/2 * np.ones(len(vecA)), directions)\n",
    "    return rotate_vector_collection(mats, vecA)\n",
    "\n",
    "def align_vectors(vecA, vecB, fraction):\n",
    "    \"\"\"\n",
    "    Rotates vecA some portion of the way towards vecB.\n",
    "    Negative fraction will align towards the perpendicular vector to vecB.\n",
    "    Positive fraction will align towards the nearest end of vecB (i.e. vecB or -vecB).\n",
    "    \n",
    "    inputs:\n",
    "    -------\n",
    "    vecA : array_like, Nx3\n",
    "        The vectors to be rotated.\n",
    "    vecB : array_like, Nx3\n",
    "        The reference direction\n",
    "    fraction : float or array_like (Nx3)\n",
    "        The fraction of the way towards vecB to rotate vecA.\n",
    "        If float, the same fraction will be used for all vectors.\n",
    "        If array_like, the fraction for each vector.\n",
    "    \"\"\"\n",
    "    fraction = np.ones(len(vecA)) * fraction\n",
    "    ref_vecs = np.array(vecB)\n",
    "\n",
    "    # Compute the rotation matrices\n",
    "    perpendicular_mask = fraction < 0\n",
    "    if perpendicular_mask.any():\n",
    "        # Not that vecB is the first vector passed in\n",
    "        # This is because we want the vector perpendicular to vecB on the plane defined by vecB and vecA\n",
    "        ref_vecs[perpendicular_mask] = perpendicular_on_plane(vecB[perpendicular_mask], vecA[perpendicular_mask])\n",
    "\n",
    "    # Ensure we use just the nearest side of the reference vector\n",
    "    signs = np.sign(elementwise_dot(vecA, ref_vecs))\n",
    "    ref_vecs = signs[:,np.newaxis] * ref_vecs\n",
    "    mats = partial_rotation_matrices_from_vectors(vecA, ref_vecs, abs(fraction))\n",
    "    \n",
    "    return rotate_vector_collection(mats, vecA)"
   ]
  },
  {
   "cell_type": "markdown",
   "metadata": {},
   "source": [
    "# Perform The Rotations"
   ]
  },
  {
   "cell_type": "markdown",
   "metadata": {},
   "source": [
    "## Align Towards Perfect Alignment"
   ]
  },
  {
   "cell_type": "code",
   "execution_count": 3,
   "metadata": {},
   "outputs": [
    {
     "name": "stdout",
     "output_type": "stream",
     "text": [
      "Rotate A into B\n",
      "A:\t\t [-0.16635786  0.89698435 -0.40956579]\n",
      "B:\t\t [0.21079795 0.73857608 0.64036676]\n",
      "Rotated A:\t [0.21079795 0.73857608 0.64036676]\n",
      "\n",
      "Half Rotations\n",
      "A:\t\t\t [-0.16635786  0.89698435 -0.40956579]\n",
      "B:\t\t\t [0.21079795 0.73857608 0.64036676]\n",
      "First Rotation of A:\t [0.02689488 0.98983147 0.13967938]\n",
      "Second Rotation of A:\t [0.21079795 0.73857608 0.64036676]\n",
      "Angle between B and Second Rotation of A: 0.0\n",
      "\n",
      "Quarter Rotations\n",
      "A:\t\t\t [-0.16635786  0.89698435 -0.40956579]\n",
      "B:\t\t\t [0.21079795 0.73857608 0.64036676]\n",
      "First Rotation of A:\t [-0.07297465  0.98728507 -0.14121931]\n",
      "Second Rotation of A:\t [0.02689488 0.98983147 0.13967938]\n",
      "Third Rotation of A:\t [0.12437387 0.90439721 0.40816274]\n",
      "Fourth Rotation of A:\t [0.21079795 0.73857608 0.64036676]\n",
      "Angle between B and Fourth Rotation of A: 0.0\n"
     ]
    }
   ],
   "source": [
    "vecA, vecB = random_unit_vectors_3d(2)\n",
    "vecB *= np.sign(elementwise_dot(vecA, vecB))\n",
    "mat = rotation_matrices_from_vectors([vecA], [vecB])\n",
    "half_mat = partial_rotation_matrices_from_vectors([vecA], [vecB], 0.5)\n",
    "quarter_mat = partial_rotation_matrices_from_vectors([vecA], [vecB], 0.25)\n",
    "\n",
    "print(\"Rotate A into B\")\n",
    "print(\"A:\\t\\t\", vecA)\n",
    "print(\"B:\\t\\t\", vecB)\n",
    "print(\"Rotated A:\\t\", rotate_vector_collection(mat, [vecA])[0])\n",
    "\n",
    "print(\"\\nHalf Rotations\")\n",
    "print(\"A:\\t\\t\\t\", vecA)\n",
    "print(\"B:\\t\\t\\t\", vecB)\n",
    "vecC = normalized_vectors( rotate_vector_collection(half_mat, [vecA]) )[0]\n",
    "print(\"First Rotation of A:\\t\", vecC)\n",
    "vecC = normalized_vectors( rotate_vector_collection(half_mat, [vecC]) )[0]\n",
    "print(\"Second Rotation of A:\\t\", vecC)\n",
    "print(\"Angle between B and Second Rotation of A:\", angles_between_list_of_vectors([vecB], [vecC])[0])\n",
    "\n",
    "print(\"\\nQuarter Rotations\")\n",
    "print(\"A:\\t\\t\\t\", vecA)\n",
    "print(\"B:\\t\\t\\t\", vecB)\n",
    "vecC = normalized_vectors( rotate_vector_collection(quarter_mat, [vecA]) )[0]\n",
    "print(\"First Rotation of A:\\t\", vecC)\n",
    "vecC = normalized_vectors( rotate_vector_collection(quarter_mat, [vecC]) )[0]\n",
    "print(\"Second Rotation of A:\\t\", vecC)\n",
    "vecC = normalized_vectors( rotate_vector_collection(quarter_mat, [vecC]) )[0]\n",
    "print(\"Third Rotation of A:\\t\", vecC)\n",
    "vecC = normalized_vectors( rotate_vector_collection(quarter_mat, [vecC]) )[0]\n",
    "print(\"Fourth Rotation of A:\\t\", vecC)\n",
    "print(\"Angle between B and Fourth Rotation of A:\", angles_between_list_of_vectors([vecB], [vecC])[0])"
   ]
  },
  {
   "cell_type": "code",
   "execution_count": 4,
   "metadata": {},
   "outputs": [
    {
     "name": "stdout",
     "output_type": "stream",
     "text": [
      "Dot Is One:\t\t\t True\n",
      "\n",
      "Quarter Rotations\n",
      "First Rotation Dot Is Not One:\t True\n",
      "Second Rotation Dot Is Not One:\t True\n",
      "Third Rotation Dot Is Not One:\t True\n",
      "Fourth Rotation Dot Is One:\t True\n"
     ]
    }
   ],
   "source": [
    "# Double check with large lists of vectors\n",
    "N = 1000\n",
    "vecA_large, vecB_large = random_unit_vectors_3d(N), random_unit_vectors_3d(N)\n",
    "vecB_large *= np.sign(elementwise_dot(vecA_large, vecB_large))[:, np.newaxis]\n",
    "mat_large = rotation_matrices_from_vectors(vecA_large, vecB_large)\n",
    "quarter_mat_large = partial_rotation_matrices_from_vectors(vecA_large, vecB_large, 0.25)\n",
    "\n",
    "# First, check that the large list of vectors is rotated correctly using the normal rotation matrix\n",
    "vecC_large = rotate_vector_collection(mat_large, vecA_large)\n",
    "dots = elementwise_dot(vecC_large, vecB_large)\n",
    "print(\"Dot Is One:\\t\\t\\t\", np.allclose(dots, 1, rtol=1e-5))\n",
    "\n",
    "# Now, check that the large list of vectors is rotated correctly using the partial rotation matrix\n",
    "print(\"\\nQuarter Rotations\")\n",
    "vecC_large = rotate_vector_collection(quarter_mat_large, vecA_large)\n",
    "dots = elementwise_dot(vecC_large, vecB_large)\n",
    "print(\"First Rotation Dot Is Not One:\\t\", not np.allclose(dots, 1, rtol=1e-5))\n",
    "vecC_large = rotate_vector_collection(quarter_mat_large, vecC_large)\n",
    "dots = elementwise_dot(vecC_large, vecB_large)\n",
    "print(\"Second Rotation Dot Is Not One:\\t\", not np.allclose(dots, 1, rtol=1e-5))\n",
    "vecC_large = rotate_vector_collection(quarter_mat_large, vecC_large)\n",
    "dots = elementwise_dot(vecC_large, vecB_large)\n",
    "print(\"Third Rotation Dot Is Not One:\\t\", not np.allclose(dots, 1, rtol=1e-5))\n",
    "vecC_large = rotate_vector_collection(quarter_mat_large, vecC_large)\n",
    "dots = elementwise_dot(vecC_large, vecB_large)\n",
    "print(\"Fourth Rotation Dot Is One:\\t\", np.allclose(dots, 1, rtol=1e-5))"
   ]
  },
  {
   "cell_type": "markdown",
   "metadata": {},
   "source": [
    "## Align Towards Perpendicular"
   ]
  },
  {
   "cell_type": "code",
   "execution_count": 5,
   "metadata": {},
   "outputs": [
    {
     "name": "stdout",
     "output_type": "stream",
     "text": [
      "Vecs\n",
      "A:\t [array([-0.16635786,  0.89698435, -0.40956579]), array([-0.16635786,  0.89698435, -0.40956579])]\n",
      "B:\t [array([0.21079795, 0.73857608, 0.64036676]), array([0.21079795, 0.73857608, 0.64036676])]\n",
      "B_perp:\t [[-0.26137964  0.67382105 -0.69111929]\n",
      " [-0.26137964  0.67382105 -0.69111929]]\n",
      "Angles\n",
      "Angle A-B:\t [1.19700135 1.19700135]\n",
      "Angle A-B_perp:\t [0.37379497 0.37379497]\n",
      "Angle B-B_perp:\t [1.57079633 1.57079633]\n"
     ]
    }
   ],
   "source": [
    "A = [vecA, vecA]\n",
    "B = [vecB, vecB]\n",
    "perp_vecB = perpendicular_on_plane(B, A)\n",
    "\n",
    "print(\"Vecs\")\n",
    "print(\"A:\\t\", A)\n",
    "print(\"B:\\t\", B)\n",
    "print(\"B_perp:\\t\", perp_vecB)\n",
    "\n",
    "print(\"Angles\")\n",
    "ang1 = np.arccos( elementwise_dot(A, B) )\n",
    "ang2 = np.arccos( elementwise_dot(A, perp_vecB) )\n",
    "ang3 = np.arccos( elementwise_dot(B, perp_vecB) )\n",
    "print(\"Angle A-B:\\t\", ang1)\n",
    "print(\"Angle A-B_perp:\\t\", ang2)\n",
    "print(\"Angle B-B_perp:\\t\", ang3)"
   ]
  },
  {
   "cell_type": "code",
   "execution_count": 6,
   "metadata": {},
   "outputs": [
    {
     "name": "stdout",
     "output_type": "stream",
     "text": [
      "[0.02689488 0.98983147 0.13967938]\n",
      "[-0.30177837  0.49231187 -0.81643054]\n",
      "1.1970013533203097\n",
      "0.5985006766601543\n",
      "0.5985006766601546\n"
     ]
    }
   ],
   "source": [
    "holdA = rotate_vector_collection(half_mat, [vecA])[0]\n",
    "holdB = rotate_vector_collection(np.transpose(half_mat, axes=(0,2,1)), [vecA])[0]\n",
    "\n",
    "print(holdA)\n",
    "print(holdB)\n",
    "print(angles_between_list_of_vectors([holdA], [holdB])[0])\n",
    "print(angles_between_list_of_vectors([vecA], [holdA])[0])\n",
    "print(angles_between_list_of_vectors([vecA], [holdB])[0])"
   ]
  },
  {
   "cell_type": "code",
   "execution_count": 7,
   "metadata": {},
   "outputs": [
    {
     "name": "stdout",
     "output_type": "stream",
     "text": [
      "Dot Is One:\t\t\t True\n",
      "\n",
      "Quarter Rotations\n",
      "First Rotation Dot Is Not One:\t True\n",
      "Second Rotation Dot Is Not One:\t True\n",
      "Third Rotation Dot Is Not One:\t True\n",
      "Fourth Rotation Dot Is One:\t True\n"
     ]
    }
   ],
   "source": [
    "# Check with large lists of vectors\n",
    "# use vecA_large and vecB_large from before\n",
    "vecB_large_perp = perpendicular_on_plane(vecB_large, vecA_large)\n",
    "mat_large = rotation_matrices_from_vectors(vecA_large, vecB_large_perp)\n",
    "quarter_mat_large = partial_rotation_matrices_from_vectors(vecA_large, vecB_large_perp, 0.25)\n",
    "\n",
    "# First, check that the large list of vectors is rotated correctly using the normal rotation matrix\n",
    "vecD_large = rotate_vector_collection(mat_large, vecA_large)\n",
    "dots = elementwise_dot(vecD_large, vecB_large_perp)\n",
    "print(\"Dot Is One:\\t\\t\\t\", np.allclose(dots, 1, rtol=1e-5))\n",
    "\n",
    "# Now, check that the large list of vectors is rotated correctly using the partial rotation matrix\n",
    "print(\"\\nQuarter Rotations\")\n",
    "vecC_large = rotate_vector_collection(quarter_mat_large, vecA_large)\n",
    "dots = elementwise_dot(vecD_large, vecB_large)\n",
    "print(\"First Rotation Dot Is Not One:\\t\", not np.allclose(dots, 1, rtol=1e-5))\n",
    "vecC_large = rotate_vector_collection(quarter_mat_large, vecD_large)\n",
    "dots = elementwise_dot(vecD_large, vecB_large)\n",
    "print(\"Second Rotation Dot Is Not One:\\t\", not np.allclose(dots, 1, rtol=1e-5))\n",
    "vecC_large = rotate_vector_collection(quarter_mat_large, vecD_large)\n",
    "dots = elementwise_dot(vecD_large, vecB_large)\n",
    "print(\"Third Rotation Dot Is Not One:\\t\", not np.allclose(dots, 1, rtol=1e-5))\n",
    "vecC_large = rotate_vector_collection(quarter_mat_large, vecD_large)\n",
    "dots = elementwise_dot(vecD_large, vecB_large_perp)\n",
    "print(\"Fourth Rotation Dot Is One:\\t\", np.allclose(dots, 1, rtol=1e-5))"
   ]
  },
  {
   "cell_type": "markdown",
   "metadata": {},
   "source": [
    "# Tests - Rotate Mixed"
   ]
  },
  {
   "cell_type": "markdown",
   "metadata": {},
   "source": [
    "## Single Float Fraction\n",
    "This should work the same as what we've seen"
   ]
  },
  {
   "cell_type": "code",
   "execution_count": 8,
   "metadata": {},
   "outputs": [],
   "source": [
    "m = 1_000_000\n",
    "ref_x = np.array([ np.ones(m), np.zeros(m), np.zeros(m) ]).T\n",
    "ref_y = np.array([ np.zeros(m), np.ones(m), np.zeros(m) ]).T\n",
    "ref_z = np.array([ np.zeros(m), np.zeros(m), np.ones(m) ]).T\n",
    "vecs = normalized_vectors( np.array([ np.random.uniform(0, 1, size=m), np.random.uniform(0, 1, size=m), np.zeros(m) ]).T )\n",
    "initial_angles = angles_between_list_of_vectors(vecs, ref_x)\n",
    "complement_angles = np.pi/2 - initial_angles"
   ]
  },
  {
   "cell_type": "markdown",
   "metadata": {},
   "source": [
    "### Towards Reference"
   ]
  },
  {
   "cell_type": "code",
   "execution_count": 9,
   "metadata": {},
   "outputs": [],
   "source": [
    "# Rotate towards the reference vectors\n",
    "rot_vecs = align_vectors(vecs, ref_x, 1)                        # Perfect Rotation\n",
    "assert np.allclose(rot_vecs, ref_x, rtol=1e-5)\n",
    "rot_vecs = align_vectors(vecs, ref_x, 0.5)                      # Half Rotation\n",
    "rot_angles = angles_between_list_of_vectors(rot_vecs, ref_x)\n",
    "assert np.allclose(rot_angles, initial_angles / 2, rtol=1e-5)\n",
    "rot_vecs = align_vectors(vecs, ref_x, 0)                        # No Rotation\n",
    "assert np.allclose(rot_vecs, vecs, rtol=1e-5)\n",
    "rand_fracs = np.random.rand(m)\n",
    "rot_vecs = align_vectors(vecs, ref_x, rand_fracs)         # Random Rotation\n",
    "rot_angles = angles_between_list_of_vectors(rot_vecs, ref_x)\n",
    "assert np.allclose(rot_angles, initial_angles * (1-rand_fracs), rtol=1e-3)"
   ]
  },
  {
   "cell_type": "markdown",
   "metadata": {},
   "source": [
    "### Towards Perpendicular"
   ]
  },
  {
   "cell_type": "code",
   "execution_count": 10,
   "metadata": {},
   "outputs": [],
   "source": [
    "# Rotate towards the vectors perpendicular to reference\n",
    "rot_vecs = align_vectors(vecs, ref_x, -1)                        # Perfect Rotation\n",
    "assert np.allclose(rot_vecs, ref_y, rtol=1e-5)\n",
    "rot_vecs = align_vectors(vecs, ref_x, -0.5)                      # Half Rotation\n",
    "rot_angles = angles_between_list_of_vectors(rot_vecs, ref_x)\n",
    "assert np.allclose(rot_angles, initial_angles + (complement_angles / 2 ), rtol=1e-5)\n",
    "rot_vecs = align_vectors(vecs, ref_x, 0)                        # No Rotation\n",
    "assert np.allclose(rot_vecs, vecs, rtol=1e-5)\n",
    "rand_fracs = np.random.rand(m)\n",
    "rot_vecs = align_vectors(vecs, ref_x, -rand_fracs)         # Random Rotation\n",
    "rot_angles = angles_between_list_of_vectors(rot_vecs, ref_x)\n",
    "assert np.allclose(rot_angles, initial_angles + ( complement_angles * rand_fracs ), rtol=1e-3)"
   ]
  },
  {
   "cell_type": "markdown",
   "metadata": {},
   "source": [
    "## Array of Fractions"
   ]
  },
  {
   "cell_type": "markdown",
   "metadata": {},
   "source": [
    "### Align Towards"
   ]
  },
  {
   "cell_type": "code",
   "execution_count": 11,
   "metadata": {},
   "outputs": [],
   "source": [
    "# Rotate towards parallel\n",
    "# Pass in random array of fractions\n",
    "rand_fracs = np.random.uniform(0, 1, size=m)\n",
    "ref_vecs = normalized_vectors( np.array( [ np.random.uniform(-1, 1, size=m), np.random.uniform(-1, 1, size=m), np.random.uniform(-1, 1, size=m) ] ).T )\n",
    "vecs = normalized_vectors( np.array( [ np.random.uniform(-1, 1, size=m), np.random.uniform(-1, 1, size=m), np.random.uniform(-1, 1, size=m) ] ).T )\n",
    "close_vecs = np.sign(elementwise_dot(vecs, ref_vecs))[:, np.newaxis] * vecs                     # For looking at the smaller angle\n",
    "initial_angles = angles_between_list_of_vectors(close_vecs, ref_vecs)\n",
    "complement_angles = np.pi/2 - initial_angles\n",
    "perp_mask = rand_fracs < 0"
   ]
  },
  {
   "cell_type": "code",
   "execution_count": 12,
   "metadata": {},
   "outputs": [],
   "source": [
    "rot_vecs = align_vectors(vecs, ref_vecs, rand_fracs)                                            # Random Rotation\n",
    "rot_angles = angles_between_list_of_vectors(rot_vecs, ref_vecs)                                 # Check the angles\n",
    "expected_angles = initial_angles * (1 - np.abs(rand_fracs))                                     # Reduce angle for those rotating towards parallel\n",
    "expected_angles = np.minimum(expected_angles, np.pi-expected_angles)                            # Ensure angles are less than 90 degrees\n",
    "rot_angles = np.minimum(rot_angles, np.pi-rot_angles)                                           # Ensure angles are less than 90 degrees\n",
    "assert np.allclose(rot_angles, expected_angles, rtol=1e-3)\n",
    "assert(rot_angles <= np.pi/2).all()\n",
    "assert (rot_angles <= initial_angles).all()\n",
    "assert (rot_angles >= 0).all()"
   ]
  },
  {
   "cell_type": "markdown",
   "metadata": {},
   "source": [
    "### Align Perpendicular"
   ]
  },
  {
   "cell_type": "code",
   "execution_count": 13,
   "metadata": {},
   "outputs": [],
   "source": [
    "# Rotate towards perpendicular\n",
    "# Pass in random array of fractions\n",
    "rand_fracs = np.random.uniform(-1, 0, size=m)\n",
    "ref_vecs = normalized_vectors( np.array( [ np.random.uniform(-1, 1, size=m), np.random.uniform(-1, 1, size=m), np.random.uniform(-1, 1, size=m) ] ).T )\n",
    "vecs = normalized_vectors( np.array( [ np.random.uniform(-1, 1, size=m), np.random.uniform(-1, 1, size=m), np.random.uniform(-1, 1, size=m) ] ).T )\n",
    "close_vecs = np.sign(elementwise_dot(vecs, ref_vecs))[:, np.newaxis] * vecs                     # For looking at the smaller angle\n",
    "initial_angles = angles_between_list_of_vectors(close_vecs, ref_vecs)\n",
    "complement_angles = np.pi/2 - initial_angles\n",
    "perp_mask = rand_fracs < 0"
   ]
  },
  {
   "cell_type": "code",
   "execution_count": 14,
   "metadata": {},
   "outputs": [],
   "source": [
    "rot_vecs = align_vectors(vecs, ref_vecs, rand_fracs)                                            # Random Rotation\n",
    "rot_angles = angles_between_list_of_vectors(rot_vecs, ref_vecs)                                 # Check the angles\n",
    "delta_theta = complement_angles * np.abs(rand_fracs)                                            # Increase angle for those rotating towards perpendicular\n",
    "expected_angles = initial_angles + delta_theta                                                  # Reduce angle for those rotating towards parallel\n",
    "expected_angles = np.minimum(expected_angles, np.pi-expected_angles)                            # Ensure angles are less than 90 degrees\n",
    "rot_angles = np.minimum(rot_angles, np.pi-rot_angles)                                           # Ensure angles are less than 90 degrees\n",
    "assert np.allclose(rot_angles, expected_angles, rtol=1e-3)\n",
    "assert(rot_angles >= initial_angles).all()\n",
    "assert (rot_angles <= np.pi/2).all()\n",
    "assert (rot_angles >= 0).all()"
   ]
  },
  {
   "cell_type": "markdown",
   "metadata": {},
   "source": [
    "### Mixed Array"
   ]
  },
  {
   "cell_type": "code",
   "execution_count": 20,
   "metadata": {},
   "outputs": [],
   "source": [
    "# Rotate either towards parallel or towards perpendicular\n",
    "# Pass in random array of fractions\n",
    "rand_fracs = np.random.uniform(-1, 1, size=m)\n",
    "ref_vecs = normalized_vectors( np.array( [ np.random.uniform(-1, 1, size=m), np.random.uniform(-1, 1, size=m), np.random.uniform(-1, 1, size=m) ] ).T )\n",
    "vecs = normalized_vectors( np.array( [ np.random.uniform(-1, 1, size=m), np.random.uniform(-1, 1, size=m), np.random.uniform(-1, 1, size=m) ] ).T )\n",
    "close_vecs = np.sign(elementwise_dot(vecs, ref_vecs))[:, np.newaxis] * vecs                     # For looking at the smaller angle\n",
    "initial_angles = angles_between_list_of_vectors(close_vecs, ref_vecs)\n",
    "complement_angles = np.pi/2 - initial_angles\n",
    "perp_mask = rand_fracs < 0"
   ]
  },
  {
   "cell_type": "code",
   "execution_count": 32,
   "metadata": {},
   "outputs": [],
   "source": [
    "rot_vecs = align_vectors(vecs, ref_vecs, rand_fracs)                                            # Random Rotation\n",
    "rot_angles = angles_between_list_of_vectors(rot_vecs, ref_vecs)                                 # Check the angles\n",
    "# Handle the parallel cases\n",
    "expected_angles = initial_angles * (1 - np.abs(rand_fracs))                                     # Reduce angle for those rotating towards parallel\n",
    "# Handle the perpendicular cases\n",
    "delta_theta = complement_angles[perp_mask] * np.abs(rand_fracs[perp_mask])                      # Increase angle for those rotating towards perpendicular\n",
    "expected_angles[perp_mask] = initial_angles[perp_mask] + delta_theta                            # Reduce angle for those rotating towards parallel\n",
    "\n",
    "expected_angles = np.minimum(expected_angles, np.pi-expected_angles)                            # Ensure angles are less than 90 degrees\n",
    "rot_angles = np.minimum(rot_angles, np.pi-rot_angles)                                           # Ensure angles are less than 90 degrees\n",
    "assert(np.allclose(rot_angles[~perp_mask], expected_angles[~perp_mask], rtol=1e-3))\n",
    "assert(np.allclose(rot_angles[perp_mask], expected_angles[perp_mask], rtol=1e-3))\n",
    "assert (rot_angles[~perp_mask] <= initial_angles[~perp_mask]).all()                              # Make sure all + fractions rotate towards\n",
    "assert (rot_angles[perp_mask] >= initial_angles[perp_mask]).all()                               # Make sure all - fractions rotate towards\n",
    "assert (rot_angles <= np.pi/2).all()\n",
    "assert (rot_angles >= 0).all()"
   ]
  },
  {
   "cell_type": "code",
   "execution_count": null,
   "metadata": {},
   "outputs": [],
   "source": []
  }
 ],
 "metadata": {
  "kernelspec": {
   "display_name": "IA",
   "language": "python",
   "name": "python3"
  },
  "language_info": {
   "codemirror_mode": {
    "name": "ipython",
    "version": 3
   },
   "file_extension": ".py",
   "mimetype": "text/x-python",
   "name": "python",
   "nbconvert_exporter": "python",
   "pygments_lexer": "ipython3",
   "version": "3.10.12"
  }
 },
 "nbformat": 4,
 "nbformat_minor": 2
}
